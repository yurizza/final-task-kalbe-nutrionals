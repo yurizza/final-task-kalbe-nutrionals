{
 "cells": [
  {
   "cell_type": "code",
   "execution_count": 1,
   "metadata": {},
   "outputs": [],
   "source": [
    "import pandas as pd\n",
    "import matplotlib.pyplot as plt"
   ]
  },
  {
   "cell_type": "markdown",
   "metadata": {},
   "source": [
    "### dataset customer"
   ]
  },
  {
   "cell_type": "code",
   "execution_count": 2,
   "metadata": {},
   "outputs": [
    {
     "data": {
      "text/html": [
       "<div>\n",
       "<style scoped>\n",
       "    .dataframe tbody tr th:only-of-type {\n",
       "        vertical-align: middle;\n",
       "    }\n",
       "\n",
       "    .dataframe tbody tr th {\n",
       "        vertical-align: top;\n",
       "    }\n",
       "\n",
       "    .dataframe thead th {\n",
       "        text-align: right;\n",
       "    }\n",
       "</style>\n",
       "<table border=\"1\" class=\"dataframe\">\n",
       "  <thead>\n",
       "    <tr style=\"text-align: right;\">\n",
       "      <th></th>\n",
       "      <th>CustomerID</th>\n",
       "      <th>Age</th>\n",
       "      <th>Gender</th>\n",
       "      <th>Marital Status</th>\n",
       "      <th>Income</th>\n",
       "    </tr>\n",
       "  </thead>\n",
       "  <tbody>\n",
       "    <tr>\n",
       "      <th>0</th>\n",
       "      <td>1</td>\n",
       "      <td>55</td>\n",
       "      <td>1</td>\n",
       "      <td>Married</td>\n",
       "      <td>5,12</td>\n",
       "    </tr>\n",
       "    <tr>\n",
       "      <th>1</th>\n",
       "      <td>2</td>\n",
       "      <td>60</td>\n",
       "      <td>1</td>\n",
       "      <td>Married</td>\n",
       "      <td>6,23</td>\n",
       "    </tr>\n",
       "    <tr>\n",
       "      <th>2</th>\n",
       "      <td>3</td>\n",
       "      <td>32</td>\n",
       "      <td>1</td>\n",
       "      <td>Married</td>\n",
       "      <td>9,17</td>\n",
       "    </tr>\n",
       "    <tr>\n",
       "      <th>3</th>\n",
       "      <td>4</td>\n",
       "      <td>31</td>\n",
       "      <td>1</td>\n",
       "      <td>Married</td>\n",
       "      <td>4,87</td>\n",
       "    </tr>\n",
       "    <tr>\n",
       "      <th>4</th>\n",
       "      <td>5</td>\n",
       "      <td>58</td>\n",
       "      <td>1</td>\n",
       "      <td>Married</td>\n",
       "      <td>3,57</td>\n",
       "    </tr>\n",
       "  </tbody>\n",
       "</table>\n",
       "</div>"
      ],
      "text/plain": [
       "   CustomerID  Age  Gender Marital Status Income\n",
       "0           1   55       1        Married   5,12\n",
       "1           2   60       1        Married   6,23\n",
       "2           3   32       1        Married   9,17\n",
       "3           4   31       1        Married   4,87\n",
       "4           5   58       1        Married   3,57"
      ]
     },
     "execution_count": 2,
     "metadata": {},
     "output_type": "execute_result"
    }
   ],
   "source": [
    "df_customer = pd.read_csv('Case Study - Customer.csv', delimiter=';')\n",
    "df_customer.head()"
   ]
  },
  {
   "cell_type": "code",
   "execution_count": 3,
   "metadata": {},
   "outputs": [
    {
     "name": "stdout",
     "output_type": "stream",
     "text": [
      "<class 'pandas.core.frame.DataFrame'>\n",
      "RangeIndex: 447 entries, 0 to 446\n",
      "Data columns (total 5 columns):\n",
      " #   Column          Non-Null Count  Dtype \n",
      "---  ------          --------------  ----- \n",
      " 0   CustomerID      447 non-null    int64 \n",
      " 1   Age             447 non-null    int64 \n",
      " 2   Gender          447 non-null    int64 \n",
      " 3   Marital Status  444 non-null    object\n",
      " 4   Income          447 non-null    object\n",
      "dtypes: int64(3), object(2)\n",
      "memory usage: 17.6+ KB\n"
     ]
    }
   ],
   "source": [
    "df_customer.info()"
   ]
  },
  {
   "cell_type": "code",
   "execution_count": 3,
   "metadata": {},
   "outputs": [
    {
     "data": {
      "text/plain": [
       "array(['Married', nan, 'Single'], dtype=object)"
      ]
     },
     "execution_count": 3,
     "metadata": {},
     "output_type": "execute_result"
    }
   ],
   "source": [
    "df_customer['Marital Status'].unique()"
   ]
  },
  {
   "cell_type": "markdown",
   "metadata": {},
   "source": [
    "Mariital Status has 3 missing value"
   ]
  },
  {
   "cell_type": "code",
   "execution_count": 4,
   "metadata": {},
   "outputs": [
    {
     "data": {
      "text/plain": [
       "0"
      ]
     },
     "execution_count": 4,
     "metadata": {},
     "output_type": "execute_result"
    }
   ],
   "source": [
    "# Check data duplicate\n",
    "df_customer.duplicated().sum()"
   ]
  },
  {
   "cell_type": "code",
   "execution_count": 5,
   "metadata": {},
   "outputs": [
    {
     "data": {
      "image/png": "[encoded data removed]",
      "text/plain": [
       "<Figure size 720x432 with 1 Axes>"
      ]
     },
     "metadata": {
      "needs_background": "light"
     },
     "output_type": "display_data"
    }
   ],
   "source": [
    "# Creating histograms for age distribution based on marital status\n",
    "plt.figure(figsize=(10, 6))\n",
    "\n",
    "# Married\n",
    "married_age = df_customer[df_customer['Marital Status'] == 'Married']['Age']\n",
    "plt.hist(married_age, bins=10, alpha=0.5, label='Married')\n",
    "\n",
    "# Non-Married\n",
    "non_married_age = df_customer[df_customer['Marital Status'] != 'Married']['Age']\n",
    "plt.hist(non_married_age, bins=10, alpha=0.5, label='Non-Married')\n",
    "\n",
    "plt.title('Age Distribution by Marital Status')\n",
    "plt.xlabel('Age')\n",
    "plt.ylabel('Number of Customers')\n",
    "plt.legend()\n",
    "plt.show()"
   ]
  },
  {
   "cell_type": "code",
   "execution_count": 6,
   "metadata": {},
   "outputs": [
    {
     "data": {
      "text/html": [
       "<div>\n",
       "<style scoped>\n",
       "    .dataframe tbody tr th:only-of-type {\n",
       "        vertical-align: middle;\n",
       "    }\n",
       "\n",
       "    .dataframe tbody tr th {\n",
       "        vertical-align: top;\n",
       "    }\n",
       "\n",
       "    .dataframe thead th {\n",
       "        text-align: right;\n",
       "    }\n",
       "</style>\n",
       "<table border=\"1\" class=\"dataframe\">\n",
       "  <thead>\n",
       "    <tr style=\"text-align: right;\">\n",
       "      <th></th>\n",
       "      <th>CustomerID</th>\n",
       "      <th>Age</th>\n",
       "      <th>Gender</th>\n",
       "      <th>Marital Status</th>\n",
       "      <th>Income</th>\n",
       "    </tr>\n",
       "  </thead>\n",
       "  <tbody>\n",
       "    <tr>\n",
       "      <th>9</th>\n",
       "      <td>10</td>\n",
       "      <td>34</td>\n",
       "      <td>1</td>\n",
       "      <td>NaN</td>\n",
       "      <td>4</td>\n",
       "    </tr>\n",
       "    <tr>\n",
       "      <th>415</th>\n",
       "      <td>416</td>\n",
       "      <td>27</td>\n",
       "      <td>1</td>\n",
       "      <td>NaN</td>\n",
       "      <td>3,43</td>\n",
       "    </tr>\n",
       "    <tr>\n",
       "      <th>442</th>\n",
       "      <td>443</td>\n",
       "      <td>33</td>\n",
       "      <td>1</td>\n",
       "      <td>NaN</td>\n",
       "      <td>9,28</td>\n",
       "    </tr>\n",
       "  </tbody>\n",
       "</table>\n",
       "</div>"
      ],
      "text/plain": [
       "     CustomerID  Age  Gender Marital Status Income\n",
       "9            10   34       1            NaN      4\n",
       "415         416   27       1            NaN   3,43\n",
       "442         443   33       1            NaN   9,28"
      ]
     },
     "execution_count": 6,
     "metadata": {},
     "output_type": "execute_result"
    }
   ],
   "source": [
    "df_customer[df_customer[\"Marital Status\"].isnull()]"
   ]
  },
  {
   "cell_type": "markdown",
   "metadata": {},
   "source": [
    "because the age for missing value in marital status is 27 - 34 so will fill with mode."
   ]
  },
  {
   "cell_type": "code",
   "execution_count": 7,
   "metadata": {},
   "outputs": [],
   "source": [
    "# fill missing value with mode\n",
    "df_customer.loc[df_customer[\"Marital Status\"].isnull(),\"Marital Status\"] = df_customer[\"Marital Status\"].mode()[0]"
   ]
  },
  {
   "cell_type": "markdown",
   "metadata": {},
   "source": [
    "### dataset product"
   ]
  },
  {
   "cell_type": "code",
   "execution_count": 8,
   "metadata": {},
   "outputs": [],
   "source": [
    "df_product = pd.read_csv('Case Study - Product.csv', delimiter=';')"
   ]
  },
  {
   "cell_type": "code",
   "execution_count": 9,
   "metadata": {},
   "outputs": [
    {
     "data": {
      "text/html": [
       "<div>\n",
       "<style scoped>\n",
       "    .dataframe tbody tr th:only-of-type {\n",
       "        vertical-align: middle;\n",
       "    }\n",
       "\n",
       "    .dataframe tbody tr th {\n",
       "        vertical-align: top;\n",
       "    }\n",
       "\n",
       "    .dataframe thead th {\n",
       "        text-align: right;\n",
       "    }\n",
       "</style>\n",
       "<table border=\"1\" class=\"dataframe\">\n",
       "  <thead>\n",
       "    <tr style=\"text-align: right;\">\n",
       "      <th></th>\n",
       "      <th>ProductID</th>\n",
       "      <th>Product Name</th>\n",
       "      <th>Price</th>\n",
       "    </tr>\n",
       "  </thead>\n",
       "  <tbody>\n",
       "    <tr>\n",
       "      <th>0</th>\n",
       "      <td>P1</td>\n",
       "      <td>Choco Bar</td>\n",
       "      <td>8800</td>\n",
       "    </tr>\n",
       "    <tr>\n",
       "      <th>1</th>\n",
       "      <td>P2</td>\n",
       "      <td>Ginger Candy</td>\n",
       "      <td>3200</td>\n",
       "    </tr>\n",
       "    <tr>\n",
       "      <th>2</th>\n",
       "      <td>P3</td>\n",
       "      <td>Crackers</td>\n",
       "      <td>7500</td>\n",
       "    </tr>\n",
       "    <tr>\n",
       "      <th>3</th>\n",
       "      <td>P4</td>\n",
       "      <td>Potato Chip</td>\n",
       "      <td>12000</td>\n",
       "    </tr>\n",
       "    <tr>\n",
       "      <th>4</th>\n",
       "      <td>P5</td>\n",
       "      <td>Thai Tea</td>\n",
       "      <td>4200</td>\n",
       "    </tr>\n",
       "  </tbody>\n",
       "</table>\n",
       "</div>"
      ],
      "text/plain": [
       "  ProductID   Product Name  Price\n",
       "0        P1      Choco Bar   8800\n",
       "1        P2  Ginger Candy    3200\n",
       "2        P3       Crackers   7500\n",
       "3        P4    Potato Chip  12000\n",
       "4        P5       Thai Tea   4200"
      ]
     },
     "execution_count": 9,
     "metadata": {},
     "output_type": "execute_result"
    }
   ],
   "source": [
    "df_product.head()"
   ]
  },
  {
   "cell_type": "code",
   "execution_count": 10,
   "metadata": {},
   "outputs": [
    {
     "name": "stdout",
     "output_type": "stream",
     "text": [
      "<class 'pandas.core.frame.DataFrame'>\n",
      "RangeIndex: 10 entries, 0 to 9\n",
      "Data columns (total 3 columns):\n",
      " #   Column        Non-Null Count  Dtype \n",
      "---  ------        --------------  ----- \n",
      " 0   ProductID     10 non-null     object\n",
      " 1   Product Name  10 non-null     object\n",
      " 2   Price         10 non-null     int64 \n",
      "dtypes: int64(1), object(2)\n",
      "memory usage: 368.0+ bytes\n"
     ]
    }
   ],
   "source": [
    "df_product.info()"
   ]
  },
  {
   "cell_type": "markdown",
   "metadata": {},
   "source": [
    "### Dataset Store"
   ]
  },
  {
   "cell_type": "code",
   "execution_count": 11,
   "metadata": {},
   "outputs": [],
   "source": [
    "df_store = pd.read_csv('Case Study - Store.csv', delimiter=';')"
   ]
  },
  {
   "cell_type": "code",
   "execution_count": 18,
   "metadata": {},
   "outputs": [
    {
     "data": {
      "text/html": [
       "<div>\n",
       "<style scoped>\n",
       "    .dataframe tbody tr th:only-of-type {\n",
       "        vertical-align: middle;\n",
       "    }\n",
       "\n",
       "    .dataframe tbody tr th {\n",
       "        vertical-align: top;\n",
       "    }\n",
       "\n",
       "    .dataframe thead th {\n",
       "        text-align: right;\n",
       "    }\n",
       "</style>\n",
       "<table border=\"1\" class=\"dataframe\">\n",
       "  <thead>\n",
       "    <tr style=\"text-align: right;\">\n",
       "      <th></th>\n",
       "      <th>StoreID</th>\n",
       "      <th>StoreName</th>\n",
       "      <th>GroupStore</th>\n",
       "      <th>Type</th>\n",
       "      <th>Latitude</th>\n",
       "      <th>Longitude</th>\n",
       "    </tr>\n",
       "  </thead>\n",
       "  <tbody>\n",
       "    <tr>\n",
       "      <th>0</th>\n",
       "      <td>1</td>\n",
       "      <td>Prima Tendean</td>\n",
       "      <td>Prima</td>\n",
       "      <td>Modern Trade</td>\n",
       "      <td>-6.200000</td>\n",
       "      <td>106.816666</td>\n",
       "    </tr>\n",
       "    <tr>\n",
       "      <th>1</th>\n",
       "      <td>2</td>\n",
       "      <td>Prima Kelapa Dua</td>\n",
       "      <td>Prima</td>\n",
       "      <td>Modern Trade</td>\n",
       "      <td>-6.914864</td>\n",
       "      <td>107.608238</td>\n",
       "    </tr>\n",
       "    <tr>\n",
       "      <th>2</th>\n",
       "      <td>3</td>\n",
       "      <td>Prima Kota</td>\n",
       "      <td>Prima</td>\n",
       "      <td>Modern Trade</td>\n",
       "      <td>-7.797068</td>\n",
       "      <td>110.370529</td>\n",
       "    </tr>\n",
       "    <tr>\n",
       "      <th>3</th>\n",
       "      <td>4</td>\n",
       "      <td>Gita Ginara</td>\n",
       "      <td>Gita</td>\n",
       "      <td>General Trade</td>\n",
       "      <td>-6.966667</td>\n",
       "      <td>110.416664</td>\n",
       "    </tr>\n",
       "    <tr>\n",
       "      <th>4</th>\n",
       "      <td>5</td>\n",
       "      <td>Bonafid</td>\n",
       "      <td>Gita</td>\n",
       "      <td>General Trade</td>\n",
       "      <td>-7.250445</td>\n",
       "      <td>112.768845</td>\n",
       "    </tr>\n",
       "  </tbody>\n",
       "</table>\n",
       "</div>"
      ],
      "text/plain": [
       "   StoreID         StoreName GroupStore           Type  Latitude   Longitude\n",
       "0        1     Prima Tendean      Prima   Modern Trade -6.200000  106.816666\n",
       "1        2  Prima Kelapa Dua      Prima   Modern Trade -6.914864  107.608238\n",
       "2        3        Prima Kota      Prima   Modern Trade -7.797068  110.370529\n",
       "3        4       Gita Ginara       Gita  General Trade -6.966667  110.416664\n",
       "4        5           Bonafid       Gita  General Trade -7.250445  112.768845"
      ]
     },
     "execution_count": 18,
     "metadata": {},
     "output_type": "execute_result"
    }
   ],
   "source": [
    "df_store.head()"
   ]
  },
  {
   "cell_type": "code",
   "execution_count": 13,
   "metadata": {},
   "outputs": [
    {
     "name": "stdout",
     "output_type": "stream",
     "text": [
      "<class 'pandas.core.frame.DataFrame'>\n",
      "RangeIndex: 14 entries, 0 to 13\n",
      "Data columns (total 6 columns):\n",
      " #   Column      Non-Null Count  Dtype \n",
      "---  ------      --------------  ----- \n",
      " 0   StoreID     14 non-null     int64 \n",
      " 1   StoreName   14 non-null     object\n",
      " 2   GroupStore  14 non-null     object\n",
      " 3   Type        14 non-null     object\n",
      " 4   Latitude    14 non-null     object\n",
      " 5   Longitude   14 non-null     object\n",
      "dtypes: int64(1), object(5)\n",
      "memory usage: 800.0+ bytes\n"
     ]
    }
   ],
   "source": [
    "df_store.info()"
   ]
  },
  {
   "cell_type": "code",
   "execution_count": 17,
   "metadata": {},
   "outputs": [],
   "source": [
    "# change latitude and longitude data type\n",
    "df_store['Latitude'] = df_store['Latitude'].str.replace(',', '.').astype(float)\n",
    "df_store['Longitude'] = df_store['Longitude'].str.replace(',', '.').astype(float)"
   ]
  },
  {
   "cell_type": "code",
   "execution_count": 19,
   "metadata": {},
   "outputs": [
    {
     "data": {
      "text/plain": [
       "0"
      ]
     },
     "execution_count": 19,
     "metadata": {},
     "output_type": "execute_result"
    }
   ],
   "source": [
    "#check duplicated data\n",
    "df_store.duplicated().sum()"
   ]
  },
  {
   "cell_type": "markdown",
   "metadata": {},
   "source": [
    "### Dataset Transaction"
   ]
  },
  {
   "cell_type": "code",
   "execution_count": 30,
   "metadata": {},
   "outputs": [],
   "source": [
    "df_transaction = pd.read_csv('Case Study - Transaction.csv', delimiter=';')"
   ]
  },
  {
   "cell_type": "code",
   "execution_count": 31,
   "metadata": {},
   "outputs": [
    {
     "data": {
      "text/html": [
       "<div>\n",
       "<style scoped>\n",
       "    .dataframe tbody tr th:only-of-type {\n",
       "        vertical-align: middle;\n",
       "    }\n",
       "\n",
       "    .dataframe tbody tr th {\n",
       "        vertical-align: top;\n",
       "    }\n",
       "\n",
       "    .dataframe thead th {\n",
       "        text-align: right;\n",
       "    }\n",
       "</style>\n",
       "<table border=\"1\" class=\"dataframe\">\n",
       "  <thead>\n",
       "    <tr style=\"text-align: right;\">\n",
       "      <th></th>\n",
       "      <th>TransactionID</th>\n",
       "      <th>CustomerID</th>\n",
       "      <th>Date</th>\n",
       "      <th>ProductID</th>\n",
       "      <th>Price</th>\n",
       "      <th>Qty</th>\n",
       "      <th>TotalAmount</th>\n",
       "      <th>StoreID</th>\n",
       "    </tr>\n",
       "  </thead>\n",
       "  <tbody>\n",
       "    <tr>\n",
       "      <th>0</th>\n",
       "      <td>TR11369</td>\n",
       "      <td>328</td>\n",
       "      <td>01/01/2022</td>\n",
       "      <td>P3</td>\n",
       "      <td>7500</td>\n",
       "      <td>4</td>\n",
       "      <td>30000</td>\n",
       "      <td>12</td>\n",
       "    </tr>\n",
       "    <tr>\n",
       "      <th>1</th>\n",
       "      <td>TR16356</td>\n",
       "      <td>165</td>\n",
       "      <td>01/01/2022</td>\n",
       "      <td>P9</td>\n",
       "      <td>10000</td>\n",
       "      <td>7</td>\n",
       "      <td>70000</td>\n",
       "      <td>1</td>\n",
       "    </tr>\n",
       "    <tr>\n",
       "      <th>2</th>\n",
       "      <td>TR1984</td>\n",
       "      <td>183</td>\n",
       "      <td>01/01/2022</td>\n",
       "      <td>P1</td>\n",
       "      <td>8800</td>\n",
       "      <td>4</td>\n",
       "      <td>35200</td>\n",
       "      <td>4</td>\n",
       "    </tr>\n",
       "    <tr>\n",
       "      <th>3</th>\n",
       "      <td>TR35256</td>\n",
       "      <td>160</td>\n",
       "      <td>01/01/2022</td>\n",
       "      <td>P1</td>\n",
       "      <td>8800</td>\n",
       "      <td>7</td>\n",
       "      <td>61600</td>\n",
       "      <td>4</td>\n",
       "    </tr>\n",
       "    <tr>\n",
       "      <th>4</th>\n",
       "      <td>TR41231</td>\n",
       "      <td>386</td>\n",
       "      <td>01/01/2022</td>\n",
       "      <td>P9</td>\n",
       "      <td>10000</td>\n",
       "      <td>1</td>\n",
       "      <td>10000</td>\n",
       "      <td>4</td>\n",
       "    </tr>\n",
       "  </tbody>\n",
       "</table>\n",
       "</div>"
      ],
      "text/plain": [
       "  TransactionID  CustomerID        Date ProductID  Price  Qty  TotalAmount  \\\n",
       "0       TR11369         328  01/01/2022        P3   7500    4        30000   \n",
       "1       TR16356         165  01/01/2022        P9  10000    7        70000   \n",
       "2        TR1984         183  01/01/2022        P1   8800    4        35200   \n",
       "3       TR35256         160  01/01/2022        P1   8800    7        61600   \n",
       "4       TR41231         386  01/01/2022        P9  10000    1        10000   \n",
       "\n",
       "   StoreID  \n",
       "0       12  \n",
       "1        1  \n",
       "2        4  \n",
       "3        4  \n",
       "4        4  "
      ]
     },
     "execution_count": 31,
     "metadata": {},
     "output_type": "execute_result"
    }
   ],
   "source": [
    "df_transaction.head()"
   ]
  },
  {
   "cell_type": "code",
   "execution_count": 32,
   "metadata": {},
   "outputs": [
    {
     "name": "stdout",
     "output_type": "stream",
     "text": [
      "<class 'pandas.core.frame.DataFrame'>\n",
      "RangeIndex: 5020 entries, 0 to 5019\n",
      "Data columns (total 8 columns):\n",
      " #   Column         Non-Null Count  Dtype \n",
      "---  ------         --------------  ----- \n",
      " 0   TransactionID  5020 non-null   object\n",
      " 1   CustomerID     5020 non-null   int64 \n",
      " 2   Date           5020 non-null   object\n",
      " 3   ProductID      5020 non-null   object\n",
      " 4   Price          5020 non-null   int64 \n",
      " 5   Qty            5020 non-null   int64 \n",
      " 6   TotalAmount    5020 non-null   int64 \n",
      " 7   StoreID        5020 non-null   int64 \n",
      "dtypes: int64(5), object(3)\n",
      "memory usage: 313.9+ KB\n"
     ]
    }
   ],
   "source": [
    "df_transaction.info()"
   ]
  },
  {
   "cell_type": "code",
   "execution_count": 33,
   "metadata": {},
   "outputs": [],
   "source": [
    "# Convert the \"Date\" column to datetime data type with the specified format\n",
    "df_transaction['Date'] = pd.to_datetime(df_transaction['Date'], format='%d/%m/%Y')"
   ]
  },
  {
   "cell_type": "code",
   "execution_count": 34,
   "metadata": {},
   "outputs": [
    {
     "data": {
      "text/plain": [
       "TransactionID\n",
       "TR71313    3\n",
       "TR42197    2\n",
       "TR90402    2\n",
       "TR74019    2\n",
       "TR49649    2\n",
       "          ..\n",
       "TR29792    1\n",
       "TR23081    1\n",
       "TR1691     1\n",
       "TR98388    1\n",
       "TR85684    1\n",
       "Name: count, Length: 4908, dtype: int64"
      ]
     },
     "execution_count": 34,
     "metadata": {},
     "output_type": "execute_result"
    }
   ],
   "source": [
    "df_transaction.TransactionID.value_counts()"
   ]
  },
  {
   "cell_type": "markdown",
   "metadata": {},
   "source": [
    "There are duplicate transaction IDs. \n",
    "\n",
    "Check if the same transaction ID is held by the same customer and they shopped on the same day but for different products."
   ]
  },
  {
   "cell_type": "code",
   "execution_count": 43,
   "metadata": {},
   "outputs": [
    {
     "data": {
      "text/html": [
       "<div>\n",
       "<style scoped>\n",
       "    .dataframe tbody tr th:only-of-type {\n",
       "        vertical-align: middle;\n",
       "    }\n",
       "\n",
       "    .dataframe tbody tr th {\n",
       "        vertical-align: top;\n",
       "    }\n",
       "\n",
       "    .dataframe thead th {\n",
       "        text-align: right;\n",
       "    }\n",
       "</style>\n",
       "<table border=\"1\" class=\"dataframe\">\n",
       "  <thead>\n",
       "    <tr style=\"text-align: right;\">\n",
       "      <th></th>\n",
       "      <th>TransactionID</th>\n",
       "      <th>CustomerID</th>\n",
       "      <th>Date</th>\n",
       "      <th>ProductID</th>\n",
       "      <th>Price</th>\n",
       "      <th>Qty</th>\n",
       "      <th>TotalAmount</th>\n",
       "      <th>StoreID</th>\n",
       "    </tr>\n",
       "  </thead>\n",
       "  <tbody>\n",
       "    <tr>\n",
       "      <th>1982</th>\n",
       "      <td>TR71313</td>\n",
       "      <td>117</td>\n",
       "      <td>2022-05-21</td>\n",
       "      <td>P1</td>\n",
       "      <td>8800</td>\n",
       "      <td>10</td>\n",
       "      <td>88000</td>\n",
       "      <td>8</td>\n",
       "    </tr>\n",
       "    <tr>\n",
       "      <th>3336</th>\n",
       "      <td>TR71313</td>\n",
       "      <td>401</td>\n",
       "      <td>2022-08-30</td>\n",
       "      <td>P3</td>\n",
       "      <td>7500</td>\n",
       "      <td>6</td>\n",
       "      <td>45000</td>\n",
       "      <td>11</td>\n",
       "    </tr>\n",
       "    <tr>\n",
       "      <th>3722</th>\n",
       "      <td>TR71313</td>\n",
       "      <td>370</td>\n",
       "      <td>2022-09-26</td>\n",
       "      <td>P3</td>\n",
       "      <td>7500</td>\n",
       "      <td>2</td>\n",
       "      <td>15000</td>\n",
       "      <td>3</td>\n",
       "    </tr>\n",
       "  </tbody>\n",
       "</table>\n",
       "</div>"
      ],
      "text/plain": [
       "     TransactionID  CustomerID       Date ProductID  Price  Qty  TotalAmount  \\\n",
       "1982       TR71313         117 2022-05-21        P1   8800   10        88000   \n",
       "3336       TR71313         401 2022-08-30        P3   7500    6        45000   \n",
       "3722       TR71313         370 2022-09-26        P3   7500    2        15000   \n",
       "\n",
       "      StoreID  \n",
       "1982        8  \n",
       "3336       11  \n",
       "3722        3  "
      ]
     },
     "execution_count": 43,
     "metadata": {},
     "output_type": "execute_result"
    }
   ],
   "source": [
    "df_transaction[df_transaction.TransactionID == \"TR71313\"]"
   ]
  },
  {
   "cell_type": "markdown",
   "metadata": {},
   "source": [
    "It has been found that the same transaction ID is associated with different customers and different purchase dates. \n",
    "\n",
    "Therefore, only the latest data will be retained to avoid duplicate transaction IDs."
   ]
  },
  {
   "cell_type": "code",
   "execution_count": 36,
   "metadata": {},
   "outputs": [],
   "source": [
    "# Grouping based on TransactionID, selecting the last row within each group,\n",
    "# then combining the results to obtain a new DataFrame\n",
    "new_df_transaction = df_transaction.groupby('TransactionID').last().reset_index()"
   ]
  },
  {
   "cell_type": "code",
   "execution_count": 44,
   "metadata": {},
   "outputs": [
    {
     "data": {
      "text/html": [
       "<div>\n",
       "<style scoped>\n",
       "    .dataframe tbody tr th:only-of-type {\n",
       "        vertical-align: middle;\n",
       "    }\n",
       "\n",
       "    .dataframe tbody tr th {\n",
       "        vertical-align: top;\n",
       "    }\n",
       "\n",
       "    .dataframe thead th {\n",
       "        text-align: right;\n",
       "    }\n",
       "</style>\n",
       "<table border=\"1\" class=\"dataframe\">\n",
       "  <thead>\n",
       "    <tr style=\"text-align: right;\">\n",
       "      <th></th>\n",
       "      <th>TransactionID</th>\n",
       "      <th>CustomerID</th>\n",
       "      <th>Date</th>\n",
       "      <th>ProductID</th>\n",
       "      <th>Price</th>\n",
       "      <th>Qty</th>\n",
       "      <th>TotalAmount</th>\n",
       "      <th>StoreID</th>\n",
       "    </tr>\n",
       "  </thead>\n",
       "  <tbody>\n",
       "    <tr>\n",
       "      <th>3309</th>\n",
       "      <td>TR71313</td>\n",
       "      <td>370</td>\n",
       "      <td>2022-09-26</td>\n",
       "      <td>P3</td>\n",
       "      <td>7500</td>\n",
       "      <td>2</td>\n",
       "      <td>15000</td>\n",
       "      <td>3</td>\n",
       "    </tr>\n",
       "  </tbody>\n",
       "</table>\n",
       "</div>"
      ],
      "text/plain": [
       "     TransactionID  CustomerID       Date ProductID  Price  Qty  TotalAmount  \\\n",
       "3309       TR71313         370 2022-09-26        P3   7500    2        15000   \n",
       "\n",
       "      StoreID  \n",
       "3309        3  "
      ]
     },
     "execution_count": 44,
     "metadata": {},
     "output_type": "execute_result"
    }
   ],
   "source": [
    "new_df_transaction[new_df_transaction.TransactionID == \"TR71313\"]"
   ]
  },
  {
   "cell_type": "code",
   "execution_count": 45,
   "metadata": {},
   "outputs": [
    {
     "data": {
      "text/plain": [
       "0"
      ]
     },
     "execution_count": 45,
     "metadata": {},
     "output_type": "execute_result"
    }
   ],
   "source": [
    "new_df_transaction.TransactionID.duplicated().sum()"
   ]
  },
  {
   "cell_type": "markdown",
   "metadata": {},
   "source": [
    "There is no duplicated data and missing value."
   ]
  },
  {
   "cell_type": "markdown",
   "metadata": {},
   "source": [
    "### Merged all data"
   ]
  },
  {
   "cell_type": "code",
   "execution_count": 48,
   "metadata": {},
   "outputs": [],
   "source": [
    "# merged all data\n",
    "df_merged= pd.merge(new_df_transaction, df_product, on='ProductID', how='left')\n",
    "df_merged = pd.merge(df_merged, df_store, on='StoreID', how='inner')\n",
    "df_merged= pd.merge(df_merged, df_customer,on='CustomerID',how='inner')"
   ]
  },
  {
   "cell_type": "code",
   "execution_count": 49,
   "metadata": {},
   "outputs": [
    {
     "data": {
      "text/html": [
       "<div>\n",
       "<style scoped>\n",
       "    .dataframe tbody tr th:only-of-type {\n",
       "        vertical-align: middle;\n",
       "    }\n",
       "\n",
       "    .dataframe tbody tr th {\n",
       "        vertical-align: top;\n",
       "    }\n",
       "\n",
       "    .dataframe thead th {\n",
       "        text-align: right;\n",
       "    }\n",
       "</style>\n",
       "<table border=\"1\" class=\"dataframe\">\n",
       "  <thead>\n",
       "    <tr style=\"text-align: right;\">\n",
       "      <th></th>\n",
       "      <th>TransactionID</th>\n",
       "      <th>CustomerID</th>\n",
       "      <th>Date</th>\n",
       "      <th>ProductID</th>\n",
       "      <th>Price_x</th>\n",
       "      <th>Qty</th>\n",
       "      <th>TotalAmount</th>\n",
       "      <th>StoreID</th>\n",
       "      <th>Product Name</th>\n",
       "      <th>Price_y</th>\n",
       "      <th>StoreName</th>\n",
       "      <th>GroupStore</th>\n",
       "      <th>Type</th>\n",
       "      <th>Latitude</th>\n",
       "      <th>Longitude</th>\n",
       "      <th>Age</th>\n",
       "      <th>Gender</th>\n",
       "      <th>Marital Status</th>\n",
       "      <th>Income</th>\n",
       "    </tr>\n",
       "  </thead>\n",
       "  <tbody>\n",
       "    <tr>\n",
       "      <th>0</th>\n",
       "      <td>TR10008</td>\n",
       "      <td>235</td>\n",
       "      <td>2022-05-21</td>\n",
       "      <td>P8</td>\n",
       "      <td>16000</td>\n",
       "      <td>2</td>\n",
       "      <td>32000</td>\n",
       "      <td>4</td>\n",
       "      <td>Oat</td>\n",
       "      <td>16000</td>\n",
       "      <td>Gita Ginara</td>\n",
       "      <td>Gita</td>\n",
       "      <td>General Trade</td>\n",
       "      <td>-6.966667</td>\n",
       "      <td>110.416664</td>\n",
       "      <td>37</td>\n",
       "      <td>0</td>\n",
       "      <td>Married</td>\n",
       "      <td>5,35</td>\n",
       "    </tr>\n",
       "    <tr>\n",
       "      <th>1</th>\n",
       "      <td>TR32057</td>\n",
       "      <td>235</td>\n",
       "      <td>2022-06-10</td>\n",
       "      <td>P7</td>\n",
       "      <td>9400</td>\n",
       "      <td>3</td>\n",
       "      <td>28200</td>\n",
       "      <td>7</td>\n",
       "      <td>Coffee Candy</td>\n",
       "      <td>9400</td>\n",
       "      <td>Buana Indah</td>\n",
       "      <td>Buana</td>\n",
       "      <td>General Trade</td>\n",
       "      <td>3.316694</td>\n",
       "      <td>114.590111</td>\n",
       "      <td>37</td>\n",
       "      <td>0</td>\n",
       "      <td>Married</td>\n",
       "      <td>5,35</td>\n",
       "    </tr>\n",
       "    <tr>\n",
       "      <th>2</th>\n",
       "      <td>TR47938</td>\n",
       "      <td>235</td>\n",
       "      <td>2022-10-18</td>\n",
       "      <td>P3</td>\n",
       "      <td>7500</td>\n",
       "      <td>4</td>\n",
       "      <td>30000</td>\n",
       "      <td>7</td>\n",
       "      <td>Crackers</td>\n",
       "      <td>7500</td>\n",
       "      <td>Buana Indah</td>\n",
       "      <td>Buana</td>\n",
       "      <td>General Trade</td>\n",
       "      <td>3.316694</td>\n",
       "      <td>114.590111</td>\n",
       "      <td>37</td>\n",
       "      <td>0</td>\n",
       "      <td>Married</td>\n",
       "      <td>5,35</td>\n",
       "    </tr>\n",
       "    <tr>\n",
       "      <th>3</th>\n",
       "      <td>TR49065</td>\n",
       "      <td>235</td>\n",
       "      <td>2022-10-08</td>\n",
       "      <td>P5</td>\n",
       "      <td>4200</td>\n",
       "      <td>4</td>\n",
       "      <td>16800</td>\n",
       "      <td>7</td>\n",
       "      <td>Thai Tea</td>\n",
       "      <td>4200</td>\n",
       "      <td>Buana Indah</td>\n",
       "      <td>Buana</td>\n",
       "      <td>General Trade</td>\n",
       "      <td>3.316694</td>\n",
       "      <td>114.590111</td>\n",
       "      <td>37</td>\n",
       "      <td>0</td>\n",
       "      <td>Married</td>\n",
       "      <td>5,35</td>\n",
       "    </tr>\n",
       "    <tr>\n",
       "      <th>4</th>\n",
       "      <td>TR50919</td>\n",
       "      <td>235</td>\n",
       "      <td>2022-08-18</td>\n",
       "      <td>P7</td>\n",
       "      <td>9400</td>\n",
       "      <td>4</td>\n",
       "      <td>37600</td>\n",
       "      <td>7</td>\n",
       "      <td>Coffee Candy</td>\n",
       "      <td>9400</td>\n",
       "      <td>Buana Indah</td>\n",
       "      <td>Buana</td>\n",
       "      <td>General Trade</td>\n",
       "      <td>3.316694</td>\n",
       "      <td>114.590111</td>\n",
       "      <td>37</td>\n",
       "      <td>0</td>\n",
       "      <td>Married</td>\n",
       "      <td>5,35</td>\n",
       "    </tr>\n",
       "  </tbody>\n",
       "</table>\n",
       "</div>"
      ],
      "text/plain": [
       "  TransactionID  CustomerID       Date ProductID  Price_x  Qty  TotalAmount  \\\n",
       "0       TR10008         235 2022-05-21        P8    16000    2        32000   \n",
       "1       TR32057         235 2022-06-10        P7     9400    3        28200   \n",
       "2       TR47938         235 2022-10-18        P3     7500    4        30000   \n",
       "3       TR49065         235 2022-10-08        P5     4200    4        16800   \n",
       "4       TR50919         235 2022-08-18        P7     9400    4        37600   \n",
       "\n",
       "   StoreID  Product Name  Price_y    StoreName GroupStore           Type  \\\n",
       "0        4           Oat    16000  Gita Ginara       Gita  General Trade   \n",
       "1        7  Coffee Candy     9400  Buana Indah      Buana  General Trade   \n",
       "2        7      Crackers     7500  Buana Indah      Buana  General Trade   \n",
       "3        7      Thai Tea     4200  Buana Indah      Buana  General Trade   \n",
       "4        7  Coffee Candy     9400  Buana Indah      Buana  General Trade   \n",
       "\n",
       "   Latitude   Longitude  Age  Gender Marital Status Income  \n",
       "0 -6.966667  110.416664   37       0        Married   5,35  \n",
       "1  3.316694  114.590111   37       0        Married   5,35  \n",
       "2  3.316694  114.590111   37       0        Married   5,35  \n",
       "3  3.316694  114.590111   37       0        Married   5,35  \n",
       "4  3.316694  114.590111   37       0        Married   5,35  "
      ]
     },
     "execution_count": 49,
     "metadata": {},
     "output_type": "execute_result"
    }
   ],
   "source": [
    "df_merged.head()"
   ]
  },
  {
   "cell_type": "code",
   "execution_count": 50,
   "metadata": {},
   "outputs": [],
   "source": [
    "# rearrange column\n",
    "column_order = [\n",
    "    'TransactionID', 'CustomerID','Age','Gender','Marital Status','Income',\n",
    "    'Date', 'ProductID', 'Product Name', 'Price_x', 'Qty','TotalAmount', \n",
    "    'StoreID','StoreName','GroupStore', 'Type', 'Latitude', 'Longitude'\n",
    "]\n",
    "df_merged = df_merged[column_order]"
   ]
  },
  {
   "cell_type": "code",
   "execution_count": 51,
   "metadata": {},
   "outputs": [
    {
     "data": {
      "text/html": [
       "<div>\n",
       "<style scoped>\n",
       "    .dataframe tbody tr th:only-of-type {\n",
       "        vertical-align: middle;\n",
       "    }\n",
       "\n",
       "    .dataframe tbody tr th {\n",
       "        vertical-align: top;\n",
       "    }\n",
       "\n",
       "    .dataframe thead th {\n",
       "        text-align: right;\n",
       "    }\n",
       "</style>\n",
       "<table border=\"1\" class=\"dataframe\">\n",
       "  <thead>\n",
       "    <tr style=\"text-align: right;\">\n",
       "      <th></th>\n",
       "      <th>TransactionID</th>\n",
       "      <th>CustomerID</th>\n",
       "      <th>Age</th>\n",
       "      <th>Gender</th>\n",
       "      <th>Marital Status</th>\n",
       "      <th>Income</th>\n",
       "      <th>Date</th>\n",
       "      <th>ProductID</th>\n",
       "      <th>Product Name</th>\n",
       "      <th>Price_x</th>\n",
       "      <th>Qty</th>\n",
       "      <th>TotalAmount</th>\n",
       "      <th>StoreID</th>\n",
       "      <th>StoreName</th>\n",
       "      <th>GroupStore</th>\n",
       "      <th>Type</th>\n",
       "      <th>Latitude</th>\n",
       "      <th>Longitude</th>\n",
       "    </tr>\n",
       "  </thead>\n",
       "  <tbody>\n",
       "    <tr>\n",
       "      <th>0</th>\n",
       "      <td>TR10008</td>\n",
       "      <td>235</td>\n",
       "      <td>37</td>\n",
       "      <td>0</td>\n",
       "      <td>Married</td>\n",
       "      <td>5,35</td>\n",
       "      <td>2022-05-21</td>\n",
       "      <td>P8</td>\n",
       "      <td>Oat</td>\n",
       "      <td>16000</td>\n",
       "      <td>2</td>\n",
       "      <td>32000</td>\n",
       "      <td>4</td>\n",
       "      <td>Gita Ginara</td>\n",
       "      <td>Gita</td>\n",
       "      <td>General Trade</td>\n",
       "      <td>-6.966667</td>\n",
       "      <td>110.416664</td>\n",
       "    </tr>\n",
       "    <tr>\n",
       "      <th>1</th>\n",
       "      <td>TR32057</td>\n",
       "      <td>235</td>\n",
       "      <td>37</td>\n",
       "      <td>0</td>\n",
       "      <td>Married</td>\n",
       "      <td>5,35</td>\n",
       "      <td>2022-06-10</td>\n",
       "      <td>P7</td>\n",
       "      <td>Coffee Candy</td>\n",
       "      <td>9400</td>\n",
       "      <td>3</td>\n",
       "      <td>28200</td>\n",
       "      <td>7</td>\n",
       "      <td>Buana Indah</td>\n",
       "      <td>Buana</td>\n",
       "      <td>General Trade</td>\n",
       "      <td>3.316694</td>\n",
       "      <td>114.590111</td>\n",
       "    </tr>\n",
       "    <tr>\n",
       "      <th>2</th>\n",
       "      <td>TR47938</td>\n",
       "      <td>235</td>\n",
       "      <td>37</td>\n",
       "      <td>0</td>\n",
       "      <td>Married</td>\n",
       "      <td>5,35</td>\n",
       "      <td>2022-10-18</td>\n",
       "      <td>P3</td>\n",
       "      <td>Crackers</td>\n",
       "      <td>7500</td>\n",
       "      <td>4</td>\n",
       "      <td>30000</td>\n",
       "      <td>7</td>\n",
       "      <td>Buana Indah</td>\n",
       "      <td>Buana</td>\n",
       "      <td>General Trade</td>\n",
       "      <td>3.316694</td>\n",
       "      <td>114.590111</td>\n",
       "    </tr>\n",
       "    <tr>\n",
       "      <th>3</th>\n",
       "      <td>TR49065</td>\n",
       "      <td>235</td>\n",
       "      <td>37</td>\n",
       "      <td>0</td>\n",
       "      <td>Married</td>\n",
       "      <td>5,35</td>\n",
       "      <td>2022-10-08</td>\n",
       "      <td>P5</td>\n",
       "      <td>Thai Tea</td>\n",
       "      <td>4200</td>\n",
       "      <td>4</td>\n",
       "      <td>16800</td>\n",
       "      <td>7</td>\n",
       "      <td>Buana Indah</td>\n",
       "      <td>Buana</td>\n",
       "      <td>General Trade</td>\n",
       "      <td>3.316694</td>\n",
       "      <td>114.590111</td>\n",
       "    </tr>\n",
       "    <tr>\n",
       "      <th>4</th>\n",
       "      <td>TR50919</td>\n",
       "      <td>235</td>\n",
       "      <td>37</td>\n",
       "      <td>0</td>\n",
       "      <td>Married</td>\n",
       "      <td>5,35</td>\n",
       "      <td>2022-08-18</td>\n",
       "      <td>P7</td>\n",
       "      <td>Coffee Candy</td>\n",
       "      <td>9400</td>\n",
       "      <td>4</td>\n",
       "      <td>37600</td>\n",
       "      <td>7</td>\n",
       "      <td>Buana Indah</td>\n",
       "      <td>Buana</td>\n",
       "      <td>General Trade</td>\n",
       "      <td>3.316694</td>\n",
       "      <td>114.590111</td>\n",
       "    </tr>\n",
       "  </tbody>\n",
       "</table>\n",
       "</div>"
      ],
      "text/plain": [
       "  TransactionID  CustomerID  Age  Gender Marital Status Income       Date  \\\n",
       "0       TR10008         235   37       0        Married   5,35 2022-05-21   \n",
       "1       TR32057         235   37       0        Married   5,35 2022-06-10   \n",
       "2       TR47938         235   37       0        Married   5,35 2022-10-18   \n",
       "3       TR49065         235   37       0        Married   5,35 2022-10-08   \n",
       "4       TR50919         235   37       0        Married   5,35 2022-08-18   \n",
       "\n",
       "  ProductID  Product Name  Price_x  Qty  TotalAmount  StoreID    StoreName  \\\n",
       "0        P8           Oat    16000    2        32000        4  Gita Ginara   \n",
       "1        P7  Coffee Candy     9400    3        28200        7  Buana Indah   \n",
       "2        P3      Crackers     7500    4        30000        7  Buana Indah   \n",
       "3        P5      Thai Tea     4200    4        16800        7  Buana Indah   \n",
       "4        P7  Coffee Candy     9400    4        37600        7  Buana Indah   \n",
       "\n",
       "  GroupStore           Type  Latitude   Longitude  \n",
       "0       Gita  General Trade -6.966667  110.416664  \n",
       "1      Buana  General Trade  3.316694  114.590111  \n",
       "2      Buana  General Trade  3.316694  114.590111  \n",
       "3      Buana  General Trade  3.316694  114.590111  \n",
       "4      Buana  General Trade  3.316694  114.590111  "
      ]
     },
     "execution_count": 51,
     "metadata": {},
     "output_type": "execute_result"
    }
   ],
   "source": [
    "df_merged.head()"
   ]
  },
  {
   "cell_type": "code",
   "execution_count": 52,
   "metadata": {},
   "outputs": [
    {
     "name": "stdout",
     "output_type": "stream",
     "text": [
      "<class 'pandas.core.frame.DataFrame'>\n",
      "RangeIndex: 4908 entries, 0 to 4907\n",
      "Data columns (total 18 columns):\n",
      " #   Column          Non-Null Count  Dtype         \n",
      "---  ------          --------------  -----         \n",
      " 0   TransactionID   4908 non-null   object        \n",
      " 1   CustomerID      4908 non-null   int64         \n",
      " 2   Age             4908 non-null   int64         \n",
      " 3   Gender          4908 non-null   int64         \n",
      " 4   Marital Status  4908 non-null   object        \n",
      " 5   Income          4908 non-null   object        \n",
      " 6   Date            4908 non-null   datetime64[ns]\n",
      " 7   ProductID       4908 non-null   object        \n",
      " 8   Product Name    4908 non-null   object        \n",
      " 9   Price_x         4908 non-null   int64         \n",
      " 10  Qty             4908 non-null   int64         \n",
      " 11  TotalAmount     4908 non-null   int64         \n",
      " 12  StoreID         4908 non-null   int64         \n",
      " 13  StoreName       4908 non-null   object        \n",
      " 14  GroupStore      4908 non-null   object        \n",
      " 15  Type            4908 non-null   object        \n",
      " 16  Latitude        4908 non-null   float64       \n",
      " 17  Longitude       4908 non-null   float64       \n",
      "dtypes: datetime64[ns](1), float64(2), int64(7), object(8)\n",
      "memory usage: 690.3+ KB\n"
     ]
    }
   ],
   "source": [
    "df_merged.info()"
   ]
  },
  {
   "cell_type": "code",
   "execution_count": 55,
   "metadata": {},
   "outputs": [
    {
     "data": {
      "text/plain": [
       "0"
      ]
     },
     "execution_count": 55,
     "metadata": {},
     "output_type": "execute_result"
    }
   ],
   "source": [
    "df_merged.duplicated().sum()"
   ]
  },
  {
   "cell_type": "code",
   "execution_count": 56,
   "metadata": {},
   "outputs": [],
   "source": [
    "# save data\n",
    "df_merged.to_csv('df_merged.csv', index=False)"
   ]
  }
 ],
 "metadata": {
  "kernelspec": {
   "display_name": "Python 3",
   "language": "python",
   "name": "python3"
  },
  "language_info": {
   "codemirror_mode": {
    "name": "ipython",
    "version": 3
   },
   "file_extension": ".py",
   "mimetype": "text/x-python",
   "name": "python",
   "nbconvert_exporter": "python",
   "pygments_lexer": "ipython3",
   "version": "3.10.12"
  },
  "orig_nbformat": 4
 },
 "nbformat": 4,
 "nbformat_minor": 2
}
